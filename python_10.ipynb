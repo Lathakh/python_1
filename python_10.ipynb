{
 "cells": [
  {
   "cell_type": "markdown",
   "metadata": {},
   "source": [
    "### 1. What is the role of try and exception block?"
   ]
  },
  {
   "cell_type": "markdown",
   "metadata": {},
   "source": [
    "The try block lets you test a block of code for errors.\n",
    "\n",
    "The except block lets you handle the error.\n",
    "\n",
    "The else block lets you execute code when there is no error. \n",
    "\n",
    "The finally block lets you execute code, regardless of the result of the try- and except blocks."
   ]
  },
  {
   "cell_type": "markdown",
   "metadata": {},
   "source": [
    "### 2. What is the syntax for a basic try-except block?"
   ]
  },
  {
   "cell_type": "code",
   "execution_count": null,
   "metadata": {},
   "outputs": [],
   "source": [
    "try:\n",
    "    # Some Code\n",
    "except:\n",
    "    # Executed if error in the\n",
    "    # try block\n",
    "    "
   ]
  },
  {
   "cell_type": "code",
   "execution_count": null,
   "metadata": {},
   "outputs": [],
   "source": [
    "try:\n",
    "       # Some Code.... \n",
    "\n",
    "except:\n",
    "       # optional block\n",
    "       # Handling of exception (if required)\n",
    "\n",
    "else:\n",
    "       # execute if no exception\n",
    "\n",
    "finally:\n",
    "      # Some code .....(always executed)"
   ]
  },
  {
   "cell_type": "markdown",
   "metadata": {},
   "source": [
    "### 3. What happens if an exception occurs inside a try block and there is no matching except block?"
   ]
  },
  {
   "cell_type": "markdown",
   "metadata": {},
   "source": [
    "If an exception occurs which does not match the exception named in the except clause, it is passed on to outer try statements"
   ]
  },
  {
   "cell_type": "markdown",
   "metadata": {},
   "source": [
    "### 4. What is the difference between using a bare except block and specifying a specific exception type?"
   ]
  },
  {
   "cell_type": "markdown",
   "metadata": {},
   "source": [
    "a = 5\n",
    "b = 0\n",
    "x = a / b"
   ]
  },
  {
   "cell_type": "markdown",
   "metadata": {},
   "source": [
    "Executing this will alert you to the fact that you have attempted to divide a float by zero but it will crash your code.\n",
    "\n",
    "Now consider:"
   ]
  },
  {
   "cell_type": "code",
   "execution_count": 4,
   "metadata": {},
   "outputs": [
    {
     "name": "stdout",
     "output_type": "stream",
     "text": [
      "An exception was raised\n"
     ]
    }
   ],
   "source": [
    "a = 5\n",
    "b = 0\n",
    "try:\n",
    "    x = a / b\n",
    "except: # or 'except Exception:'\n",
    "    print(\"An exception was raised\")\n"
   ]
  },
  {
   "cell_type": "markdown",
   "metadata": {},
   "source": [
    "This will raise an exception that is handled by printing a message that an error occurred. You code will not crash but you do not know how to properly handle the code because you do not know what the exception was, just that one occurred.\n",
    "\n",
    "Now your code does not crash. Is handled and you know what the error was."
   ]
  },
  {
   "cell_type": "code",
   "execution_count": 6,
   "metadata": {},
   "outputs": [
    {
     "name": "stdout",
     "output_type": "stream",
     "text": [
      "An exception was raised, generating error division by zero\n"
     ]
    }
   ],
   "source": [
    "a = 5\n",
    "b = 0\n",
    "try:\n",
    "    x = a / b\n",
    "except Exception as e:\n",
    "    print(\"An exception was raised, generating error\", e)"
   ]
  },
  {
   "cell_type": "markdown",
   "metadata": {},
   "source": [
    "### 5. Can you have nested try-except blocks in Python? If yes, then give an example."
   ]
  },
  {
   "cell_type": "markdown",
   "metadata": {},
   "source": [
    "We can have nested try-except blocks in Python. In this case, if an exception is raised in the nested try block, the nested except block is used to handle it.\n",
    "\n"
   ]
  },
  {
   "cell_type": "code",
   "execution_count": 12,
   "metadata": {},
   "outputs": [],
   "source": [
    "def __getattribute__(self, item):\n",
    "    try:\n",
    "        return object.__getattribute__(item)\n",
    "    except AttributeError:\n",
    "        try:\n",
    "            return self.dict[item]\n",
    "        except KeyError:\n",
    "            print(\"The object doesn't have such attribute\")"
   ]
  },
  {
   "cell_type": "markdown",
   "metadata": {},
   "source": [
    "### 6. Can we use multiple exception blocks, if yes then give an example."
   ]
  },
  {
   "cell_type": "markdown",
   "metadata": {},
   "source": [
    "In Python, try-except blocks can be used to catch and respond to one or multiple exceptions. In cases where a process raises more than one possible exception, they can all be handled using a single except clause."
   ]
  },
  {
   "cell_type": "code",
   "execution_count": 26,
   "metadata": {},
   "outputs": [
    {
     "name": "stdout",
     "output_type": "stream",
     "text": [
      "Index Out of Bound.\n"
     ]
    }
   ],
   "source": [
    "try:\n",
    "    \n",
    "    even_numbers = [2,4,6,8]\n",
    "    print(even_numbers[5])\n",
    "\n",
    "except ZeroDivisionError:\n",
    "    print(\"Denominator cannot be 0.\")\n",
    "    \n",
    "except IndexError:\n",
    "    print(\"Index Out of Bound.\")\n"
   ]
  },
  {
   "cell_type": "markdown",
   "metadata": {},
   "source": [
    "### 7. Write the reason due to which following errors are raised:\n",
    "a. EOFError\n",
    "\n",
    "b. FloatingPointError\n",
    "\n",
    "c. IndexError\n",
    "\n",
    "d. MemoryError\n",
    "\n",
    "e. OverflowError\n",
    "\n",
    "f. TabError\n",
    "\n",
    "g. ValueError"
   ]
  },
  {
   "cell_type": "markdown",
   "metadata": {},
   "source": [
    "a. EOFError    --->  \"end of line error\" The reason that EOFError occurs is that Python attempts to print out your input in variable string when no data is given\n",
    "\n",
    "\n",
    "b. FloatingPointError  ---> when a floating-point calculation is attempted that is not supported by the available hardware or software. It occurs when trying to calculate a number that is too large or too small to represent as a floating-point number.\n",
    "\n",
    "c. IndexError   --->  when an attempt is made to access an item in a list at an index which is out of bounds. The range of a list in Python is [0, n-1], where n is the number of elements in the list.\n",
    "\n",
    "d. MemoryError   ---->This may be due to an issue in the setup of the Python environment or it may be a concern with the code itself loading too much data at the same time\n",
    "\n",
    "e. OverflowError  ---->when the data type used to store data was not large enough to hold the data. \n",
    " \n",
    "f. TabError      ----> inconsistent use of tabs and spaces in indentation” occurs when you mix tabs and spaces to indent lines in a code block. \n",
    "\n",
    "g. ValueError     --->   when a function receives an argument of the correct type but an inappropriate value"
   ]
  },
  {
   "cell_type": "markdown",
   "metadata": {},
   "source": [
    "### 8. Write code for the following given scenario and add try-exception block to it.\n",
    "a. Program to divide two numbers\n",
    "\n",
    "b. Program to convert a string to an integer\n",
    "\n",
    "c. Program to access an element in a list\n",
    "\n",
    "d. Program to handle a specific exception\n",
    "\n",
    "e. Program to handle any exception"
   ]
  },
  {
   "cell_type": "markdown",
   "metadata": {},
   "source": [
    "#### a. Program to divide two numbers"
   ]
  },
  {
   "cell_type": "code",
   "execution_count": 11,
   "metadata": {},
   "outputs": [
    {
     "name": "stdout",
     "output_type": "stream",
     "text": [
      "Error: Denominator cannot be 0.\n"
     ]
    }
   ],
   "source": [
    "try:\n",
    "    numerator = 10\n",
    "    denominator = 0\n",
    "\n",
    "    result = numerator/denominator\n",
    "\n",
    "    print(result)\n",
    "except:\n",
    "    print(\"Error: Denominator cannot be 0.\")\n"
   ]
  },
  {
   "cell_type": "markdown",
   "metadata": {},
   "source": [
    "#### b. Program to convert a string to an integer"
   ]
  },
  {
   "cell_type": "code",
   "execution_count": 14,
   "metadata": {},
   "outputs": [
    {
     "name": "stdout",
     "output_type": "stream",
     "text": [
      "plz enter an integer we cant able to convert string to integer \n"
     ]
    }
   ],
   "source": [
    "s=\"latha\"\n",
    "\n",
    "try:\n",
    "    i=int(s)\n",
    "    print(i)\n",
    "except ValueError:\n",
    "    print(\"plz enter an integer we cant able to convert string to integer \")"
   ]
  },
  {
   "cell_type": "code",
   "execution_count": 16,
   "metadata": {},
   "outputs": [],
   "source": [
    "s = \"123\"\n",
    "try:\n",
    "    i = int(s)\n",
    "except ValueError as verr:\n",
    "    pass # do job to handle: s does not contain anything convertible to int\n",
    "except Exception as ex:\n",
    "    pass # do job to handle: Exception occurred while converting to int"
   ]
  },
  {
   "cell_type": "markdown",
   "metadata": {},
   "source": [
    "#### c. Program to access an element in a list"
   ]
  },
  {
   "cell_type": "code",
   "execution_count": 24,
   "metadata": {},
   "outputs": [
    {
     "name": "stdout",
     "output_type": "stream",
     "text": [
      "Index 9 is not avaible in your list\n"
     ]
    }
   ],
   "source": [
    "l=[1,2,3,4,5]\n",
    "try:\n",
    "    for i  in range(len(l)):\n",
    "        print(l[9])\n",
    "except IndexError:\n",
    "    print(\"Index 9 is not avaible in your list\")"
   ]
  },
  {
   "cell_type": "markdown",
   "metadata": {},
   "source": [
    "#### d. Program to handle a specific exception"
   ]
  },
  {
   "cell_type": "code",
   "execution_count": 25,
   "metadata": {},
   "outputs": [
    {
     "name": "stdout",
     "output_type": "stream",
     "text": [
      "Error: cannot add an int and a str\n"
     ]
    }
   ],
   "source": [
    "# try to handle type erorr\n",
    "x = 5\n",
    "y = \"hello\"\n",
    "try:\n",
    "    z = x + y\n",
    "except TypeError:\n",
    "    print(\"Error: cannot add an int and a str\")"
   ]
  },
  {
   "cell_type": "markdown",
   "metadata": {},
   "source": [
    "#### e. Program to handle any exception"
   ]
  },
  {
   "cell_type": "code",
   "execution_count": 27,
   "metadata": {},
   "outputs": [],
   "source": [
    "s = \"123\"\n",
    "try:\n",
    "    i = int(s)\n",
    "except ValueError as verr:\n",
    "    pass # do job to handle: s does not contain anything convertible to int\n",
    "except Exception as ex:\n",
    "    pass # do job to handle: Exception occurred while converting to int"
   ]
  },
  {
   "cell_type": "code",
   "execution_count": null,
   "metadata": {},
   "outputs": [],
   "source": []
  }
 ],
 "metadata": {
  "kernelspec": {
   "display_name": "Python 3",
   "language": "python",
   "name": "python3"
  },
  "language_info": {
   "codemirror_mode": {
    "name": "ipython",
    "version": 3
   },
   "file_extension": ".py",
   "mimetype": "text/x-python",
   "name": "python",
   "nbconvert_exporter": "python",
   "pygments_lexer": "ipython3",
   "version": "3.8.3"
  }
 },
 "nbformat": 4,
 "nbformat_minor": 4
}
