{
 "cells": [
  {
   "cell_type": "markdown",
   "metadata": {},
   "source": [
    "### 1. Explain what inheritance is in object-oriented programming and why it is used."
   ]
  },
  {
   "cell_type": "markdown",
   "metadata": {},
   "source": [
    "Inheritance allows programmers to create classes that are built upon existing classes, to specify a new implementation while maintaining the same behaviors (realizing an interface), to reuse code and to independently extend original software via public classes and interfaces."
   ]
  },
  {
   "cell_type": "markdown",
   "metadata": {},
   "source": [
    "### 2. Discuss the concept of single inheritance and multiple inheritance, highlighting their differences and advantages."
   ]
  },
  {
   "cell_type": "markdown",
   "metadata": {},
   "source": [
    "In single inheritance, we do have only one base class, which is inherited by only one derived class. In multiple inheritance we have more than two base class which are combinely inherited by only one derived class.\n",
    "\n",
    "1. Single inheritance is one derived class having a single base class. On the contrary, multiple inheritance has two or more than two base classes, but single derived class.\n",
    "\n",
    " 2 .Multiple inheritance is quite confusing as here a single derived class inherit two or more base class. If the base classes have an attribute or function with the same name then for a derived class, it becomes difficult to identify which base class’s attribute or function it has to derive.\n",
    " \n",
    "\n",
    " 3. Overhead issues are lesser in case of single inheritance. However, in the case of multiple inheritance the object    construction or destruction invokes the constructors and destructor of the parent class in the class hierarchy, which increases the overhead.\n",
    " \n",
    " 4. Single inheritance is more towards specialization. Conversely, multiple inheritance is more towards generalization.\n",
    "Due to less overhead in single inheritance it has less runtime than multiple inheritance.\n"
   ]
  },
  {
   "cell_type": "markdown",
   "metadata": {},
   "source": [
    "### 3. Explain the terms \"base class\" and \"derived class\" in the context of inheritance."
   ]
  },
  {
   "cell_type": "markdown",
   "metadata": {},
   "source": [
    "The parent class whose properties are being inherited is known as the base class, and all the classes that inherit from the base class are the derived classes. "
   ]
  },
  {
   "cell_type": "markdown",
   "metadata": {},
   "source": [
    "### 4. What is the significance of the \"protected\" access modifier in inheritance? How does it differ from \"private\" and \"public\" modifiers?"
   ]
  },
  {
   "cell_type": "markdown",
   "metadata": {},
   "source": [
    "It is a keyword. This access modifier is used to access the methods or data members of a class within the same package as well as outside the package but only through inheritance\n",
    "\n",
    "\n",
    "Private members cannot be accessed from the child class of outside package. Protected members can be accessed from the child class of the outside package, but we should use child reference only. Package members cannot be accessed from the child class of outside package."
   ]
  },
  {
   "cell_type": "markdown",
   "metadata": {},
   "source": [
    "### 5. What is the purpose of the \"super\" keyword in inheritance? Provide an example."
   ]
  },
  {
   "cell_type": "markdown",
   "metadata": {},
   "source": [
    "We can use super keyword to access the data member or field of parent class. It is used if parent class and child class have same fields"
   ]
  },
  {
   "cell_type": "code",
   "execution_count": 1,
   "metadata": {},
   "outputs": [],
   "source": [
    "class Person:\n",
    "    def __init__(self,name):\n",
    "        self.name=name\n",
    "\n",
    "    def display_info(self):\n",
    "        print(f\"Name is : {self.name}\")\n",
    "\n",
    "\n",
    "class Student(Person):\n",
    "    def __init__(self,name,grade):\n",
    "        super().__init__(name)\n",
    "        self.grade=grade\n",
    "\n",
    "    def display_info(self):\n",
    "        super().display_info()\n",
    "        print(f\"Grade is : {self.grade}\")\n",
    "\n",
    "        \n",
    "        "
   ]
  },
  {
   "cell_type": "markdown",
   "metadata": {},
   "source": [
    "### 6. Create a base class called \"Vehicle\" with attributes like \"make\", \"model\", and \"year\".Then, create a derived class called \"Car\" that inherits from \"Vehicle\" and adds an attribute called \"fuel_type\". Implement appropriate methods in both classes."
   ]
  },
  {
   "cell_type": "code",
   "execution_count": 93,
   "metadata": {},
   "outputs": [
    {
     "name": "stdout",
     "output_type": "stream",
     "text": [
      "the age of the car would be old\n"
     ]
    }
   ],
   "source": [
    "#base class\n",
    "class Vehicle:\n",
    "    def __init__(self,make,model,year):\n",
    "        self.make=make\n",
    "        self.model=model\n",
    "        self.year=year\n",
    "    \n",
    "    def age_car(self):\n",
    "        print(f\"the age of the car would be old\")\n",
    "v=Vehicle(2,\"bwm\",5)\n",
    "v.age_car()\n",
    "\n"
   ]
  },
  {
   "cell_type": "code",
   "execution_count": 94,
   "metadata": {},
   "outputs": [],
   "source": [
    "# child class or derived class        \n",
    "class Car(Vehicle):\n",
    "    \n",
    "    def __init__(self,make,model,year,fuel_type):\n",
    "        super().__init__(make,model,year)\n",
    "        self.fuel_type=fuel_type\n",
    "        \n",
    "    def age_car(self):\n",
    "        super().age_car()\n",
    "        print(f\"car {self.model} by filling the fuel {self.fuel_type} it will start \")"
   ]
  },
  {
   "cell_type": "code",
   "execution_count": 95,
   "metadata": {
    "scrolled": true
   },
   "outputs": [
    {
     "name": "stdout",
     "output_type": "stream",
     "text": [
      "the age of the car would be old\n",
      "car bmw by filling the fuel petrol it will start \n"
     ]
    }
   ],
   "source": [
    "c=Car(2,\"bmw\",4,\"petrol\")\n",
    "c.age_car()"
   ]
  },
  {
   "cell_type": "markdown",
   "metadata": {},
   "source": [
    "### 7. Create a base class called \"Employee\" with attributes like \"name\" and \"salary.\" Derive two classes, \"Manager\" and \"Developer,\" from \"Employee.\" Add an additional attribute called \"department\" for the \"Manager\" class and \"programming_language\" for the \"Developer\" class."
   ]
  },
  {
   "cell_type": "code",
   "execution_count": 80,
   "metadata": {},
   "outputs": [],
   "source": [
    "#parent class\n",
    "class Employee:\n",
    "    def __init__(self,name,salary):\n",
    "        self.name=name\n",
    "        self.salary=salary\n",
    "        \n",
    "    def display_emp_profile(self):\n",
    "        print(f\"the profile of employee name as {self.name} and salary would be {self.salary}\")\n",
    "    "
   ]
  },
  {
   "cell_type": "code",
   "execution_count": 81,
   "metadata": {},
   "outputs": [
    {
     "name": "stdout",
     "output_type": "stream",
     "text": [
      "the profile of employee name as latha and salary would be 12200\n"
     ]
    }
   ],
   "source": [
    "E=Employee(\"latha\",12200)\n",
    "E.display_emp_profile()"
   ]
  },
  {
   "cell_type": "code",
   "execution_count": 82,
   "metadata": {},
   "outputs": [],
   "source": [
    "# child classes\n",
    "class Manager(Employee):\n",
    "    def __init__(self,name,salary,dept):\n",
    "        super().__init__(name,salary)\n",
    "        self.dept=dept\n",
    "        \n",
    "    def display_emp_profile(self):\n",
    "        super().display_emp_profile()\n",
    "        print(f\" the dept of emp is {self.dept}\")\n",
    "        "
   ]
  },
  {
   "cell_type": "code",
   "execution_count": 83,
   "metadata": {},
   "outputs": [
    {
     "name": "stdout",
     "output_type": "stream",
     "text": [
      "the profile of employee name as latha and salary would be 2324\n",
      " the dept of emp is AI\n"
     ]
    }
   ],
   "source": [
    "m=Manager(\"latha\",2324,\"AI\")\n",
    "m.display_emp_profile()"
   ]
  },
  {
   "cell_type": "code",
   "execution_count": 88,
   "metadata": {},
   "outputs": [],
   "source": [
    "class Developer(Employee):\n",
    "    def __init__(self,name,salary,programing_language):\n",
    "        super().__init__(name,salary)\n",
    "        self.programing_language=programing_language\n",
    "        \n",
    "    def display_emp_profile(self):\n",
    "        super().display_emp_profile()\n",
    "        print(f\" the developer choosen programing_language {self.programing_language}\")"
   ]
  },
  {
   "cell_type": "code",
   "execution_count": 89,
   "metadata": {},
   "outputs": [
    {
     "name": "stdout",
     "output_type": "stream",
     "text": [
      "the profile of employee name as latha and salary would be 2332\n",
      " the developer choosen programing_language python\n"
     ]
    }
   ],
   "source": [
    "d=Developer(\"latha\",2332,\"python\")\n",
    "d.display_emp_profile()"
   ]
  },
  {
   "cell_type": "markdown",
   "metadata": {},
   "source": [
    "### 8. Design a base class called \"Shape\" with attributes like \"colour\" and \"border_width.\" Create derived classes, \"Rectangle\" and \"Circle,\" that inherit from \"Shape\" and add specific attributes like \"length\" and \"width\" for the \"Rectangle\" class and \"radius\" for the \"Circle\" class."
   ]
  },
  {
   "cell_type": "code",
   "execution_count": 99,
   "metadata": {},
   "outputs": [
    {
     "name": "stdout",
     "output_type": "stream",
     "text": [
      "the colour of shape pink and border withdth would be 23\n"
     ]
    }
   ],
   "source": [
    "class Shape:\n",
    "    def __init__(self,colour,border_width):\n",
    "        self.colour=colour\n",
    "        self.border_width=border_width\n",
    "        \n",
    "    def display_shape(self):\n",
    "        print(f\"the colour of shape {self.colour} and border withdth would be {self.border_width}\")\n",
    "s=Shape(\"pink\",23)\n",
    "s.display_shape()"
   ]
  },
  {
   "cell_type": "code",
   "execution_count": 102,
   "metadata": {},
   "outputs": [
    {
     "name": "stdout",
     "output_type": "stream",
     "text": [
      "the colour of shape white and border withdth would be 2\n",
      "the colour of shape is rectangle white and border withdth would be 2\n"
     ]
    }
   ],
   "source": [
    "class Rectangle(Shape):\n",
    "    \n",
    "    def __init__(self,colour,border_width,length,width):\n",
    "        super().__init__(colour,border_width)\n",
    "        self.length=length\n",
    "        self.width=width\n",
    "        \n",
    "    def display_rectangle(self):\n",
    "        super().display_shape()\n",
    "        print(f\"the colour of shape is rectangle {self.colour} and border withdth would be {self.border_width}\")\n",
    "                \n",
    "        \n",
    "r=Rectangle(\"white\",2,23,56)\n",
    "r.display_rectangle()\n",
    "\n",
    "        "
   ]
  },
  {
   "cell_type": "code",
   "execution_count": 105,
   "metadata": {},
   "outputs": [
    {
     "name": "stdout",
     "output_type": "stream",
     "text": [
      "the colour of shape white and border withdth would be 2\n",
      "the colour of shape is circle white and radius  5\n"
     ]
    }
   ],
   "source": [
    "class Circle(Shape):\n",
    "    \n",
    "    def __init__(self,colour,border_width,radius):\n",
    "        super().__init__(colour,border_width)\n",
    "        self.radius=radius\n",
    "      \n",
    "        \n",
    "    def display_circle(self):\n",
    "        super().display_shape()\n",
    "        print(f\"the colour of shape is circle {self.colour} and radius  {self.radius}\")\n",
    "                \n",
    "        \n",
    "r=Circle(\"white\",2,5)\n",
    "r.display_circle()\n"
   ]
  },
  {
   "cell_type": "markdown",
   "metadata": {},
   "source": [
    "### 9. Create a base class called \"Device\" with attributes like \"brand\" and \"model.\" Derive two classes, \"Phone\" and \"Tablet,\" from \"Device.\" Add specific attributes like \"screen_size\" for the \"Phone\" class and \"battery_capacity\" for the \"Tablet\" class."
   ]
  },
  {
   "cell_type": "code",
   "execution_count": 106,
   "metadata": {},
   "outputs": [
    {
     "name": "stdout",
     "output_type": "stream",
     "text": [
      "the device having brand and model\n"
     ]
    }
   ],
   "source": [
    "class Device:\n",
    "    def __init__(self,brand, model):\n",
    "        self.brand=brand\n",
    "        self.model=model\n",
    "        \n",
    "    def Device_info(self):\n",
    "        print(\"the device having brand and model\")\n",
    "        \n",
    "d=Device(\"v12\",\"vivo\")\n",
    "d.Device_info()"
   ]
  },
  {
   "cell_type": "code",
   "execution_count": 110,
   "metadata": {},
   "outputs": [
    {
     "name": "stdout",
     "output_type": "stream",
     "text": [
      "the device having brand and model\n",
      "the phone model vivo and v12 and size would be 12\n"
     ]
    }
   ],
   "source": [
    "class Phone(Device):\n",
    "    \n",
    "    def __init__(self,brand,model,screen_size):\n",
    "        super().__init__(brand,model)\n",
    "        self.screen_size=screen_size\n",
    "        \n",
    "    def Phone_info(self):\n",
    "        super().Device_info()\n",
    "        print(f\"the phone model {self.model} and {self.brand} and size would be {self.screen_size}\")\n",
    "              \n",
    "p=Phone(\"v12\",\"vivo\",12)\n",
    "p.Phone_info()              "
   ]
  },
  {
   "cell_type": "code",
   "execution_count": 113,
   "metadata": {},
   "outputs": [
    {
     "name": "stdout",
     "output_type": "stream",
     "text": [
      "the device having brand and model\n",
      "the Tablet model iphone and i12 and battery_capacity would be 100\n"
     ]
    }
   ],
   "source": [
    "class Tablet(Device):\n",
    "    \n",
    "    def __init__(self,brand,model,battery_capacity):\n",
    "        super().__init__(brand,model)\n",
    "        self.battery_capacity=battery_capacity\n",
    "        \n",
    "    def Tablet_info(self):\n",
    "        super().Device_info()\n",
    "        print(f\"the Tablet model {self.model} and {self.brand} and battery_capacity would be {self.battery_capacity}\")\n",
    "              \n",
    "t=Tablet(\"i12\",\"iphone\",100)\n",
    "t.Tablet_info()      "
   ]
  },
  {
   "cell_type": "markdown",
   "metadata": {},
   "source": [
    "### 10. Create a base class called \"BankAccount\" with attributes like \"account_number\" and \"balance.\" Derive two classes, \"SavingsAccount\" and \"CheckingAccount,\" from \"BankAccount.\" Add specific methods like \"calculate_interest\" for the \"SavingsAccount\" class and \"deduct_fees\" for the \"CheckingAccount\" class."
   ]
  },
  {
   "cell_type": "code",
   "execution_count": 131,
   "metadata": {},
   "outputs": [],
   "source": [
    "class CheckingAccount(BankAccount):\n",
    "    \n",
    "    def __init__(self,account_number,balance,Rate,Time,interest):\n",
    "        super().__init__(account_number,balance)\n",
    "        self.Rate=Rate\n",
    "        self.Time=Time\n",
    "        self.interest=interest\n",
    "    def calculate_interest(self): \n",
    "        self.ineterest=0\n",
    "        interest=balance*R*T\n",
    "        print(interest)"
   ]
  },
  {
   "cell_type": "code",
   "execution_count": 130,
   "metadata": {},
   "outputs": [
    {
     "name": "stdout",
     "output_type": "stream",
     "text": [
      "account has been opened by account number and balanace we have 230\n"
     ]
    }
   ],
   "source": [
    "class BankAccount:\n",
    "    def __init__(self,account_number,balance=100):\n",
    "            self.account_number=account_number\n",
    "            self.balance=balance\n",
    "            \n",
    "    def bank_details(self):\n",
    "        print(f\"account has been opened by account number and balanace we have {self.balance}\")\n",
    "        \n",
    "b=BankAccount(123344566,230)\n",
    "b.bank_details()"
   ]
  },
  {
   "cell_type": "code",
   "execution_count": null,
   "metadata": {},
   "outputs": [],
   "source": []
  },
  {
   "cell_type": "code",
   "execution_count": null,
   "metadata": {},
   "outputs": [],
   "source": []
  }
 ],
 "metadata": {
  "kernelspec": {
   "display_name": "Python 3",
   "language": "python",
   "name": "python3"
  },
  "language_info": {
   "codemirror_mode": {
    "name": "ipython",
    "version": 3
   },
   "file_extension": ".py",
   "mimetype": "text/x-python",
   "name": "python",
   "nbconvert_exporter": "python",
   "pygments_lexer": "ipython3",
   "version": "3.8.3"
  }
 },
 "nbformat": 4,
 "nbformat_minor": 4
}
