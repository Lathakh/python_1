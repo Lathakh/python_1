{
 "cells": [
  {
   "cell_type": "markdown",
   "metadata": {},
   "source": [
    "### 1. What is the primary goal of Object-Oriented Programming (OOP)?"
   ]
  },
  {
   "cell_type": "markdown",
   "metadata": {},
   "source": [
    "To hold entire data into a single object such that it would be easy to pass this to other methods and objects.\n",
    "\n",
    "Robustness, Adaptability, and Reusability."
   ]
  },
  {
   "cell_type": "markdown",
   "metadata": {},
   "source": [
    "### 2. What is an object in Python?"
   ]
  },
  {
   "cell_type": "markdown",
   "metadata": {},
   "source": [
    "An object is simply a collection of data (variables) and methods (functions).\n",
    "\n",
    "\n",
    "An Object is an instance of a Class. A class is like a blueprint while an instance is a copy of the class with actual values. \n",
    "Python is an object-oriented programming language that stresses objects "
   ]
  },
  {
   "cell_type": "markdown",
   "metadata": {},
   "source": [
    "### 3. What is a class in Python?"
   ]
  },
  {
   "cell_type": "markdown",
   "metadata": {},
   "source": [
    " A class is a code template for creating objects. Objects have member variables and have behaviour associated with them.\n",
    "In python a class is created by the keyword class . An object is created using the constructor of the class.\n"
   ]
  },
  {
   "cell_type": "markdown",
   "metadata": {},
   "source": [
    "### 4. What are attributes and methods in a class?"
   ]
  },
  {
   "cell_type": "markdown",
   "metadata": {},
   "source": [
    "The data values which we store inside an object are called attributes, and the functions which are associated with the object are called methods."
   ]
  },
  {
   "cell_type": "markdown",
   "metadata": {},
   "source": [
    "### 5. What is the difference between class variables and instance variables in Python?"
   ]
  },
  {
   "cell_type": "markdown",
   "metadata": {},
   "source": [
    "Class variables are useful for storing data that is shared among all instances of a class, such as constants or default values. \n",
    "\n",
    "Instance variables are used to store data that is unique to each instance of a class, such as object properties."
   ]
  },
  {
   "cell_type": "markdown",
   "metadata": {},
   "source": [
    "### 6. What is the purpose of the self parameter in Python class methods?"
   ]
  },
  {
   "cell_type": "markdown",
   "metadata": {},
   "source": [
    "self represents the instance of the class. By using the “self” we can access the attributes and methods of the class in python."
   ]
  },
  {
   "cell_type": "markdown",
   "metadata": {},
   "source": [
    "### 7. For a library management system, you have to design the \"Book\" class with OOP principles in mind. The “Book” class will have following attributes:\n",
    "a. title: Represents the title of the book.\n",
    "\n",
    "b. author: Represents the author(s) of the book.\n",
    "\n",
    "c. isbn: Represents the ISBN (International Standard Book Number) of the book.\n",
    "\n",
    "d. publication_year: Represents the year of publication of the book.\n",
    "\n",
    "e. available_copies: Represents the number of copies available for checkout.\n",
    "\n",
    "The class will also include the following methods:\n",
    "\n",
    "a. check_out(self): Decrements the available copies by one if there are copies\n",
    "available for checkout.\n",
    "\n",
    "b. return_book(self): Increments the available copies by one when a book is\n",
    "returned.\n",
    "\n",
    "c. display_book_info(self): Displays the information about the book, including its\n",
    "attributes and the number of available copies.\n"
   ]
  },
  {
   "cell_type": "code",
   "execution_count": 4,
   "metadata": {},
   "outputs": [],
   "source": [
    "class BOOK:\n",
    "    def __init__(self,title,author,isbn,p_y,a_c):\n",
    "        self.title=title\n",
    "        self.author=author\n",
    "        self.isbn=isbn\n",
    "        self.p_y=p_y\n",
    "        self.a_c=a_c\n",
    "    \n",
    "    def check_out(self,a_c):\n",
    "        self.a_c=a_c\n",
    "        av=10\n",
    "        if a_c == av:\n",
    "            av=av-1\n",
    "            print(f\"the number copies are avaibale\")\n",
    "            \n",
    "    def return_book(self,a_c):\n",
    "        self.a_c=a_c\n",
    "        av=10\n",
    "        if a_c==av:\n",
    "            av=av+1\n",
    "            print(f\"the number  one more copies are  added to avaibale\")\n",
    "            \n",
    "            \n",
    "            \n",
    "    def display_book_info(self):   \n",
    "        print(f\" the book is  {self.title} and author is  {self.author} {self.p_y} number  of copies {self.a_c} are avaiable\" )"
   ]
  },
  {
   "cell_type": "code",
   "execution_count": 5,
   "metadata": {},
   "outputs": [
    {
     "name": "stdout",
     "output_type": "stream",
     "text": [
      " the book is  DREAM BIG and author is  Richard 2018 number  of copies 10 are avaiable\n"
     ]
    }
   ],
   "source": [
    "b=BOOK(\"DREAM BIG\",\"Richard\",29,2018,10)\n",
    "b.display_book_info()"
   ]
  },
  {
   "cell_type": "code",
   "execution_count": 7,
   "metadata": {},
   "outputs": [
    {
     "name": "stdout",
     "output_type": "stream",
     "text": [
      "the number copies are avaibale\n"
     ]
    }
   ],
   "source": [
    "b.check_out(10)"
   ]
  },
  {
   "cell_type": "code",
   "execution_count": 8,
   "metadata": {},
   "outputs": [
    {
     "name": "stdout",
     "output_type": "stream",
     "text": [
      "the number  one more copies are  added to avaibale\n"
     ]
    }
   ],
   "source": [
    "b.return_book(10)"
   ]
  },
  {
   "cell_type": "markdown",
   "metadata": {},
   "source": [
    "### 8. For a ticket booking system, you have to design the \"Ticket\" class with OOP principles in mind. The “Ticket” class should have the following attributes:\n",
    "    \n",
    "a. ticket_id: Represents the unique identifier for the ticket.\n",
    "    \n",
    "b. event_name: Represents the name of the event.\n",
    "    \n",
    "c. event_date: Represents the date of the event.\n",
    "    \n",
    "d. venue: Represents the venue of the event.\n",
    "    \n",
    "e. seat_number: Represents the seat number associated with the ticket.\n",
    "    \n",
    "f. price: Represents the price of the ticket.\n",
    "    \n",
    "g. is_reserved: Represents the reservation status of the ticket.\n",
    "    \n",
    "The class also includes the following methods:\n",
    "    \n",
    "a. reserve_ticket(self): Marks the ticket as reserved if it is not already reserved.\n",
    "    \n",
    "b. cancel_reservation(self): Cancels the reservation of the ticket if it is already\n",
    "reserved.\n",
    "\n",
    "c. display_ticket_info(self): Displays the information about the ticket, including its\n",
    "attributes and reservation status.\n",
    "\n"
   ]
  },
  {
   "cell_type": "code",
   "execution_count": 46,
   "metadata": {},
   "outputs": [],
   "source": [
    "class Ticket:\n",
    "    def __init__(self,ticket_id,event_name,event_date,venue, seat_number):\n",
    "        self.ticket_id=ticket_id\n",
    "        self.event_name=event_name\n",
    "        self.event_date=event_date\n",
    "        self.venue=venue\n",
    "        self.seat_number= seat_number\n",
    "    \n",
    "    def reserve_ticket(self, is_reserved): \n",
    "        self.is_reserved= is_reserved\n",
    "        if  is_reserved==True:\n",
    "            print(\"mark the ticket as reserved\")\n",
    "        else:\n",
    "            print(\" not mark the ticket\")\n",
    "            \n",
    "            \n",
    "    def cancel_reservation(self,is_reserved):\n",
    "        self. is_reserved= is_reserved\n",
    "        reserve_ticket(is_reserved)\n",
    "        print(\"cancelled mark the ticket as reserved\")\n",
    "        \n",
    "    def display_ticket_info(self): \n",
    "        print(f\"the tickit_id {self.ticket_id}  reserevd successfully\")\n",
    "        "
   ]
  },
  {
   "cell_type": "code",
   "execution_count": 47,
   "metadata": {},
   "outputs": [
    {
     "name": "stdout",
     "output_type": "stream",
     "text": [
      "mark the ticket as reserved\n"
     ]
    }
   ],
   "source": [
    "t=Ticket(\"id123\",\"xyc\",1,\"india\",2)\n",
    "t.reserve_ticket(True)"
   ]
  },
  {
   "cell_type": "code",
   "execution_count": 48,
   "metadata": {},
   "outputs": [
    {
     "name": "stdout",
     "output_type": "stream",
     "text": [
      "the tickit_id id123  reserevd successfully\n"
     ]
    }
   ],
   "source": [
    "t.display_ticket_info()"
   ]
  },
  {
   "cell_type": "markdown",
   "metadata": {},
   "source": [
    "### 9. You are creating a shopping cart for an e-commerce website. Using OOP to model the \"ShoppingCart\" functionality the class should contain following attributes and methods:\n",
    "a. items: Represents the list of items in the shopping cart.\n",
    "\n",
    "The class also includes the following methods:\n",
    "\n",
    "a. add_item(self, item): Adds an item to the shopping cart by appending it to the\n",
    "list of items.\n",
    "\n",
    "b. remove_item(self, item): Removes an item from the shopping cart if it exists in\n",
    "the list.\n",
    "\n",
    "c. view_cart(self): Displays the items currently present in the shopping cart.\n",
    "\n",
    "d. clear_cart(self): Clears all items from the shopping cart by reassigning an\n",
    "empty list to the items attribute.\n"
   ]
  },
  {
   "cell_type": "code",
   "execution_count": 49,
   "metadata": {},
   "outputs": [],
   "source": [
    "class ShoppingCart:\n",
    "    def __init__(self,items):\n",
    "        self.items=[]\n",
    "        \n",
    "    def add_item(self,item):\n",
    "        item_name=item\n",
    "        self.items.append(item)    \n",
    "        print(\"the item in shoppingcart are\",self.items)\n",
    "        \n",
    "    def remove_item(self, item):\n",
    "        for i in self.items:\n",
    "            if i[0] == item:\n",
    "                self.items.remove(i)\n",
    "                break\n",
    "    def view_cart(self):\n",
    "        print(f\" after removignthe element then result list is : \",self.items)\n",
    "        \n",
    "    def clear_cart(self,item):\n",
    "        if self.items==item:\n",
    "            self.items.remove(item)\n",
    "        print(\"the list is empty\")\n",
    "        \n",
    "        "
   ]
  },
  {
   "cell_type": "code",
   "execution_count": 50,
   "metadata": {},
   "outputs": [
    {
     "name": "stdout",
     "output_type": "stream",
     "text": [
      "the item in shoppingcart are [[1, 2, 3, 4, 5]]\n"
     ]
    }
   ],
   "source": [
    "s=ShoppingCart(5)\n",
    "s.add_item([1,2,3,4,5])"
   ]
  },
  {
   "cell_type": "code",
   "execution_count": 51,
   "metadata": {},
   "outputs": [
    {
     "name": "stdout",
     "output_type": "stream",
     "text": [
      " after removignthe element then result list is :  [[1, 2, 3, 4, 5]]\n"
     ]
    }
   ],
   "source": [
    "s.remove_item(2)\n",
    "s.clear_cart()\n",
    "s.view_cart()"
   ]
  },
  {
   "cell_type": "markdown",
   "metadata": {},
   "source": [
    "### 10. Imagine a school management system. You have to design the \"Student\" class using OOP concepts.The “Student” class has the following attributes:\n",
    "a. name: Represents the name of the student.\n",
    "\n",
    "b. age: Represents the age of the student.\n",
    "\n",
    "c. grade: Represents the grade or class of the student.\n",
    "\n",
    "d. student_id: Represents the unique identifier for the student.\n",
    "\n",
    "e. attendance: Represents the attendance record of the student.\n",
    "\n",
    "The class should also include the following methods:\n",
    "\n",
    "a. update_attendance(self, date, status): Updates the attendance record of the\n",
    "student for a given date with the provided status (e.g., present or absent).\n",
    "\n",
    "b. get_attendance(self): Returns the attendance record of the student.\n",
    "\n",
    "c. get_average_attendance(self): Calculates and returns the average"
   ]
  },
  {
   "cell_type": "code",
   "execution_count": 60,
   "metadata": {},
   "outputs": [],
   "source": [
    "attendance='present','absent'\n",
    "class Student:\n",
    "    studentCount=0\n",
    "    attendanceAverage=0\n",
    "    def __init__(self,name,age,grade,student_id,attendance):\n",
    "        self.name=name\n",
    "        self.age=age\n",
    "        self.grade=grade\n",
    "        self.student_id=student_id\n",
    "        self.attendance=attendance\n",
    "        \n",
    "    def update_attendance(self, date, status):\n",
    "        self.date=\"25/7/23\"\n",
    "        if status==attendance:\n",
    "            print(f\"student is present on that date {self.date}\") \n",
    "        else:\n",
    "            print(f\"student is absent on that date {self.date}\")  \n",
    "    def return_attendace(self,status):\n",
    "        if status=='present':\n",
    "            print(f\"student is present on that date {self.date}\") \n",
    "        else:\n",
    "            print(f\"student is absent on that date {self.date}\")\n",
    "            \n",
    "    def  get_average_attendance(self,Student):\n",
    "        print(Student.attendanceAverag)"
   ]
  },
  {
   "cell_type": "code",
   "execution_count": 61,
   "metadata": {},
   "outputs": [
    {
     "name": "stdout",
     "output_type": "stream",
     "text": [
      "student is absent on that date 25/7/23\n"
     ]
    }
   ],
   "source": [
    "s=Student(\"latha\",12,\"A\",\"id123\",\"absent\")\n",
    "s.update_attendance(\"25/7/23\",\"present\")"
   ]
  },
  {
   "cell_type": "code",
   "execution_count": 62,
   "metadata": {},
   "outputs": [
    {
     "name": "stdout",
     "output_type": "stream",
     "text": [
      "student is absent on that date 25/7/23\n"
     ]
    }
   ],
   "source": [
    "s.update_attendance(\"25/7/23\",\"absent\")"
   ]
  },
  {
   "cell_type": "code",
   "execution_count": 63,
   "metadata": {},
   "outputs": [
    {
     "name": "stdout",
     "output_type": "stream",
     "text": [
      "student is present on that date 25/7/23\n"
     ]
    }
   ],
   "source": [
    "s.return_attendace(\"present\")"
   ]
  },
  {
   "cell_type": "code",
   "execution_count": null,
   "metadata": {},
   "outputs": [],
   "source": []
  },
  {
   "cell_type": "code",
   "execution_count": null,
   "metadata": {},
   "outputs": [],
   "source": []
  },
  {
   "cell_type": "code",
   "execution_count": null,
   "metadata": {},
   "outputs": [],
   "source": []
  }
 ],
 "metadata": {
  "kernelspec": {
   "display_name": "Python 3",
   "language": "python",
   "name": "python3"
  },
  "language_info": {
   "codemirror_mode": {
    "name": "ipython",
    "version": 3
   },
   "file_extension": ".py",
   "mimetype": "text/x-python",
   "name": "python",
   "nbconvert_exporter": "python",
   "pygments_lexer": "ipython3",
   "version": "3.8.3"
  }
 },
 "nbformat": 4,
 "nbformat_minor": 4
}
